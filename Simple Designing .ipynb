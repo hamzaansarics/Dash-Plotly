{
 "cells": [
  {
   "cell_type": "code",
   "execution_count": 8,
   "metadata": {},
   "outputs": [],
   "source": [
    "import dash\n",
    "import numpy as np\n",
    "import pandas as pd\n",
    "import plotly.graph_objs as go\n",
    "import dash_core_components as dcc\n",
    "import dash_html_components as html\n",
    "import dash_bootstrap_components as dbc\n",
    "from dash.dependencies import Input,Output,State"
   ]
  },
  {
   "cell_type": "code",
   "execution_count": 9,
   "metadata": {},
   "outputs": [],
   "source": [
    "app=dash.Dash()"
   ]
  },
  {
   "cell_type": "code",
   "execution_count": null,
   "metadata": {},
   "outputs": [
    {
     "name": "stdout",
     "output_type": "stream",
     "text": [
      " * Serving Flask app \"__main__\" (lazy loading)\n",
      " * Environment: production\n",
      "   WARNING: This is a development server. Do not use it in a production deployment.\n",
      "   Use a production WSGI server instead.\n",
      " * Debug mode: off\n"
     ]
    },
    {
     "name": "stderr",
     "output_type": "stream",
     "text": [
      " * Running on http://127.0.0.1:4050/ (Press CTRL+C to quit)\n",
      "127.0.0.1 - - [09/Jul/2020 08:54:35] \"GET / HTTP/1.1\" 200 -\n",
      "127.0.0.1 - - [09/Jul/2020 08:54:35] \"GET /_dash-component-suites/dash_renderer/react@16.8.6.min.js?v=1.1.2&m=1576595738 HTTP/1.1\" 200 -\n",
      "127.0.0.1 - - [09/Jul/2020 08:54:35] \"GET /_dash-component-suites/dash_renderer/react-dom@16.8.6.min.js?v=1.1.2&m=1576595738 HTTP/1.1\" 200 -\n",
      "127.0.0.1 - - [09/Jul/2020 08:54:35] \"GET /_dash-component-suites/dash_renderer/prop-types@15.7.2.min.js?v=1.1.2&m=1576595738 HTTP/1.1\" 200 -\n",
      "127.0.0.1 - - [09/Jul/2020 08:54:35] \"GET /_dash-component-suites/dash_core_components/highlight.pack.js?v=1.3.1&m=1576595950 HTTP/1.1\" 200 -\n",
      "127.0.0.1 - - [09/Jul/2020 08:54:35] \"GET /_dash-component-suites/dash_bootstrap_components/_components/dash_bootstrap_components.min.js?v=0.10.2&m=1591797790 HTTP/1.1\" 200 -\n",
      "127.0.0.1 - - [09/Jul/2020 08:54:35] \"GET /_dash-component-suites/dash_html_components/dash_html_components.min.js?v=1.0.1&m=1576596177 HTTP/1.1\" 200 -\n",
      "127.0.0.1 - - [09/Jul/2020 08:54:35] \"GET /_dash-component-suites/dash_core_components/dash_core_components.min.js?v=1.3.1&m=1576595950 HTTP/1.1\" 200 -\n",
      "127.0.0.1 - - [09/Jul/2020 08:54:35] \"GET /_dash-component-suites/dash_renderer/dash_renderer.min.js?v=1.1.2&m=1576595738 HTTP/1.1\" 200 -\n",
      "127.0.0.1 - - [09/Jul/2020 08:54:36] \"GET /_dash-component-suites/dash_core_components/plotly-1.50.1.min.js?v=1.3.1&m=1576595950 HTTP/1.1\" 200 -\n",
      "127.0.0.1 - - [09/Jul/2020 08:54:37] \"GET /_dash-layout HTTP/1.1\" 200 -\n",
      "127.0.0.1 - - [09/Jul/2020 08:54:37] \"GET /_dash-dependencies HTTP/1.1\" 200 -\n",
      "127.0.0.1 - - [09/Jul/2020 08:54:37] \"GET /_favicon.ico?v=1.4.1 HTTP/1.1\" 200 -\n"
     ]
    }
   ],
   "source": [
    "app.layout=html.Div([\n",
    "    dcc.Graph(id='nice0',\n",
    "                         figure={\n",
    "          'data':\n",
    "        [go.Scatter(x=list('123456789'),y=list('35126965'),name='Profit',line=dict(color='#ff33ff'))]\n",
    "        , 'layout':{'showlegend':False,\n",
    "          'paper_size':'20rem',\n",
    "          'margin':{'l': 25, 'b': 25, 't': 0, 'r': 0},\n",
    "           'legend':{'x': 0, 'y': 1},\n",
    "            \"xaxis1\": {\n",
    "      \"side\": \"bottom\",\n",
    "      \"type\": \"linear\",\n",
    "      \"dtick\": 2,\n",
    "      \"range\": [\n",
    "        0,\n",
    "        10\n",
    "      ],\n",
    "      \"anchor\": \"y1\",\n",
    "      \"domain\": [\n",
    "        0.13,\n",
    "        0.905\n",
    "      ],\n",
    "      \"gridcolor\": \"rgb(159, 197, 232)\",\n",
    "      \"zerolinecolor\": \"rgb(74, 134, 232)\"\n",
    "    },\n",
    "    \"yaxis1\": {\n",
    "      \"side\": \"left\",\n",
    "      \"type\": \"linear\",\n",
    "      \"dtick\": 2,\n",
    "      \"range\": [\n",
    "        0,\n",
    "        10\n",
    "      ],\n",
    "      \"anchor\": \"x1\",\n",
    "      \"domain\": [\n",
    "        0.11,\n",
    "        0.925\n",
    "      ],\n",
    "      \"gridcolor\": \"rgb(159, 197, 232)\",\n",
    "      \"zerolinecolor\": \"rgb(74, 134, 232)\"\n",
    "    },\n",
    "    \"showlegend\": False,\n",
    "    \"annotations\": []\n",
    "                                    }  ,\n",
    "                             \n",
    "                         },className='styling1 text-light')\n",
    "        \n",
    "])\n",
    "app.run_server(port=4050)"
   ]
  },
  {
   "cell_type": "code",
   "execution_count": 22,
   "metadata": {},
   "outputs": [],
   "source": [
    "# app.layout=html.Div([\n",
    "#     dcc.Dropdown(\n",
    "#     id='Example',\n",
    "#         options=[\n",
    "#             {'label':'Pakistan','value':'SS'},\n",
    "#             {'label':'Turkey','value':'UU'},\n",
    "#             {'label':'Saudi Arabia','value':\"HH\",'disabled':False}\n",
    "#         ],\n",
    "#         value='HH',\n",
    "#         multi=False,\n",
    "#         disabled=False,\n",
    "#         placeholder='select any Country'\n",
    "#                 ),\n",
    "#     dcc.Slider(\n",
    "#     min=1,\n",
    "#     max=10,\n",
    "#     value=10,\n",
    "#     marks={i:i for i in range(10)}\n",
    "#     ),\n",
    "#     html.Label('NICE'),  \n",
    "#     dcc.RangeSlider(\n",
    "#     min=1,\n",
    "#     max=20,\n",
    "#     value=[1,5],\n",
    "#     marks={s: s for s in range(20)}\n",
    "#     ),\n",
    "#     html.Br(),\n",
    "#     html.Br(),\n",
    "#     dcc.Input(id='nice',\n",
    "# #     value='t',\n",
    "#     type='text',\n",
    "#     placeholder='This is simple values'\n",
    "#     ),\n",
    "#     dcc.Checklist(\n",
    "#     options=[\n",
    "#         {'label':'Simple','value':'OO'},\n",
    "#         {'label':'Standard','value':'PP'},\n",
    "#         {'label':'High','value':'CC'}\n",
    "#     ]\n",
    "#     ),\n",
    "#     html.Button('Submit'),\n",
    "#     dcc.RadioItems(\n",
    "#     options=[\n",
    "#         {'label':'NICE','value':'EE'},\n",
    "#         {'label':'JIS','value':'YY'},\n",
    "#         {'label':'FGJH','value':'VV'},\n",
    "#     ],    \n",
    "#         value='YY'\n",
    "#     ),\n",
    "#     dcc.Textarea(id='IO',\n",
    "#                 placeholder='This is description box'),\n",
    "#     html.Br(),\n",
    "#     dcc.DatePickerSingle(\n",
    "#     id='no',\n",
    "#     date=dt.datetime(2020,5,5),\n",
    "#     style={'color':'red','size':50}\n",
    "#     ),\n",
    "#     dcc.Markdown(\n",
    "#     \"\"\"\n",
    "#     this is markdown data from start to end\n",
    "    \n",
    "#     \"\"\"\n",
    "#     )\n",
    "    \n",
    "# ])"
   ]
  },
  {
   "cell_type": "code",
   "execution_count": 23,
   "metadata": {},
   "outputs": [
    {
     "name": "stdout",
     "output_type": "stream",
     "text": [
      " * Serving Flask app \"__main__\" (lazy loading)\n",
      " * Environment: production\n",
      "   WARNING: This is a development server. Do not use it in a production deployment.\n",
      "   Use a production WSGI server instead.\n",
      " * Debug mode: off\n"
     ]
    },
    {
     "name": "stderr",
     "output_type": "stream",
     "text": [
      " * Running on http://127.0.0.1:4050/ (Press CTRL+C to quit)\n",
      "127.0.0.1 - - [09/Jul/2020 08:51:29] \"GET / HTTP/1.1\" 200 -\n",
      "127.0.0.1 - - [09/Jul/2020 08:51:29] \"GET /_dash-component-suites/dash_renderer/react@16.8.6.min.js?v=1.1.2&m=1576595738 HTTP/1.1\" 200 -\n",
      "127.0.0.1 - - [09/Jul/2020 08:51:29] \"GET /_dash-component-suites/dash_renderer/prop-types@15.7.2.min.js?v=1.1.2&m=1576595738 HTTP/1.1\" 200 -\n",
      "127.0.0.1 - - [09/Jul/2020 08:51:29] \"GET /_dash-component-suites/dash_renderer/react-dom@16.8.6.min.js?v=1.1.2&m=1576595738 HTTP/1.1\" 200 -\n",
      "127.0.0.1 - - [09/Jul/2020 08:51:29] \"GET /_dash-component-suites/dash_core_components/highlight.pack.js?v=1.3.1&m=1576595950 HTTP/1.1\" 200 -\n",
      "127.0.0.1 - - [09/Jul/2020 08:51:29] \"GET /_dash-component-suites/dash_bootstrap_components/_components/dash_bootstrap_components.min.js?v=0.10.2&m=1591797790 HTTP/1.1\" 200 -\n",
      "127.0.0.1 - - [09/Jul/2020 08:51:29] \"GET /_dash-component-suites/dash_html_components/dash_html_components.min.js?v=1.0.1&m=1576596177 HTTP/1.1\" 200 -\n",
      "127.0.0.1 - - [09/Jul/2020 08:51:29] \"GET /_dash-component-suites/dash_core_components/dash_core_components.min.js?v=1.3.1&m=1576595950 HTTP/1.1\" 200 -\n",
      "127.0.0.1 - - [09/Jul/2020 08:51:29] \"GET /_dash-component-suites/dash_renderer/dash_renderer.min.js?v=1.1.2&m=1576595738 HTTP/1.1\" 200 -\n",
      "127.0.0.1 - - [09/Jul/2020 08:51:29] \"GET /_dash-component-suites/dash_core_components/plotly-1.50.1.min.js?v=1.3.1&m=1576595950 HTTP/1.1\" 200 -\n",
      "127.0.0.1 - - [09/Jul/2020 08:51:30] \"GET /_dash-layout HTTP/1.1\" 200 -\n",
      "127.0.0.1 - - [09/Jul/2020 08:51:30] \"GET /_dash-dependencies HTTP/1.1\" 200 -\n",
      "127.0.0.1 - - [09/Jul/2020 08:51:31] \"GET /_favicon.ico?v=1.4.1 HTTP/1.1\" 200 -\n"
     ]
    }
   ],
   "source": []
  },
  {
   "cell_type": "code",
   "execution_count": null,
   "metadata": {},
   "outputs": [],
   "source": []
  }
 ],
 "metadata": {
  "kernelspec": {
   "display_name": "Python 3",
   "language": "python",
   "name": "python3"
  },
  "language_info": {
   "codemirror_mode": {
    "name": "ipython",
    "version": 3
   },
   "file_extension": ".py",
   "mimetype": "text/x-python",
   "name": "python",
   "nbconvert_exporter": "python",
   "pygments_lexer": "ipython3",
   "version": "3.7.3"
  }
 },
 "nbformat": 4,
 "nbformat_minor": 2
}
