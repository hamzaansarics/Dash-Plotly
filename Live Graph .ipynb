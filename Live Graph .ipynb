{
 "cells": [
  {
   "cell_type": "code",
   "execution_count": 318,
   "metadata": {},
   "outputs": [],
   "source": [
    "import dash\n",
    "import random\n",
    "from collections import deque\n",
    "import plotly.graph_objs as go\n",
    "import dash_core_components as dcc\n",
    "import dash_html_components as html\n",
    "from dash.dependencies import Input,Output"
   ]
  },
  {
   "cell_type": "code",
   "execution_count": 319,
   "metadata": {},
   "outputs": [],
   "source": [
    "app=dash.Dash(__name__)"
   ]
  },
  {
   "cell_type": "code",
   "execution_count": 320,
   "metadata": {},
   "outputs": [],
   "source": [
    "X=deque(maxlen=30)\n",
    "X.append(1)\n",
    "Y=deque(maxlen=30)\n",
    "Y.append(1)"
   ]
  },
  {
   "cell_type": "code",
   "execution_count": 321,
   "metadata": {},
   "outputs": [],
   "source": [
    "\n",
    "app.layout=html.Div([\n",
    "    dcc.Graph('live-graph',animate=True),\n",
    "    dcc.Interval('graph-update',interval=1*1000)\n",
    "])\n",
    "\n",
    "@app.callback(Output('live-graph','figure'),\n",
    "             [Input('graph-update','n_intervals')])\n",
    "\n",
    "\n",
    "def update_graph(input_data):\n",
    "    global X\n",
    "    global Y\n",
    "    \n",
    "    X.append(X[-1]+1)\n",
    "    Y.append(Y[-1]+(Y[-1]*random.uniform(-0.1,0.1)))\n",
    "    data=go.Scatter(\n",
    "    x=list(X),\n",
    "    y=list(Y),\n",
    "    name='Scatter',\n",
    "    mode='lines+markers'\n",
    "    )\n",
    "    return {'data':[data],'layout':go.Layout(xaxis=dict(range=[min(X),max(X)]),\n",
    "                                             yaxis=dict(range=[min(Y),max(Y)])\n",
    "    )}\n"
   ]
  },
  {
   "cell_type": "code",
   "execution_count": 322,
   "metadata": {},
   "outputs": [
    {
     "name": "stdout",
     "output_type": "stream",
     "text": [
      " * Serving Flask app \"__main__\" (lazy loading)\n",
      " * Environment: production\n",
      "   WARNING: This is a development server. Do not use it in a production deployment.\n",
      "   Use a production WSGI server instead.\n",
      " * Debug mode: off\n"
     ]
    },
    {
     "name": "stderr",
     "output_type": "stream",
     "text": [
      " * Running on http://127.0.0.1:4080/ (Press CTRL+C to quit)\n",
      "127.0.0.1 - - [18/Apr/2020 10:59:20] \"POST /_dash-update-component HTTP/1.1\" 200 -\n",
      "127.0.0.1 - - [18/Apr/2020 10:59:21] \"POST /_dash-update-component HTTP/1.1\" 200 -\n",
      "127.0.0.1 - - [18/Apr/2020 10:59:21] \"POST /_dash-update-component HTTP/1.1\" 200 -\n",
      "127.0.0.1 - - [18/Apr/2020 10:59:22] \"POST /_dash-update-component HTTP/1.1\" 200 -\n",
      "127.0.0.1 - - [18/Apr/2020 10:59:22] \"GET / HTTP/1.1\" 200 -\n",
      "127.0.0.1 - - [18/Apr/2020 10:59:22] \"GET /_dash-component-suites/dash_renderer/react@16.8.6.min.js?v=1.1.2&m=1576595738 HTTP/1.1\" 200 -\n",
      "127.0.0.1 - - [18/Apr/2020 10:59:22] \"GET /_dash-component-suites/dash_renderer/react-dom@16.8.6.min.js?v=1.1.2&m=1576595738 HTTP/1.1\" 200 -\n",
      "127.0.0.1 - - [18/Apr/2020 10:59:22] \"GET /_dash-component-suites/dash_renderer/prop-types@15.7.2.min.js?v=1.1.2&m=1576595738 HTTP/1.1\" 200 -\n",
      "127.0.0.1 - - [18/Apr/2020 10:59:22] \"GET /_dash-component-suites/dash_core_components/highlight.pack.js?v=1.3.1&m=1576595950 HTTP/1.1\" 200 -\n",
      "127.0.0.1 - - [18/Apr/2020 10:59:22] \"GET /_dash-component-suites/dash_html_components/dash_html_components.min.js?v=1.0.1&m=1576596177 HTTP/1.1\" 200 -\n",
      "127.0.0.1 - - [18/Apr/2020 10:59:22] \"GET /_dash-component-suites/dash_renderer/dash_renderer.min.js?v=1.1.2&m=1576595738 HTTP/1.1\" 200 -\n",
      "127.0.0.1 - - [18/Apr/2020 10:59:22] \"GET /_dash-component-suites/dash_core_components/dash_core_components.min.js?v=1.3.1&m=1576595950 HTTP/1.1\" 200 -\n",
      "127.0.0.1 - - [18/Apr/2020 10:59:23] \"GET /_dash-component-suites/dash_core_components/plotly-1.50.1.min.js?v=1.3.1&m=1576595950 HTTP/1.1\" 200 -\n",
      "127.0.0.1 - - [18/Apr/2020 10:59:23] \"GET /_dash-layout HTTP/1.1\" 200 -\n",
      "127.0.0.1 - - [18/Apr/2020 10:59:23] \"GET /_dash-dependencies HTTP/1.1\" 200 -\n",
      "127.0.0.1 - - [18/Apr/2020 10:59:23] \"POST /_dash-update-component HTTP/1.1\" 200 -\n",
      "127.0.0.1 - - [18/Apr/2020 10:59:24] \"GET /_favicon.ico?v=1.4.1 HTTP/1.1\" 200 -\n",
      "127.0.0.1 - - [18/Apr/2020 10:59:25] \"POST /_dash-update-component HTTP/1.1\" 200 -\n",
      "127.0.0.1 - - [18/Apr/2020 10:59:26] \"POST /_dash-update-component HTTP/1.1\" 200 -\n",
      "127.0.0.1 - - [18/Apr/2020 10:59:27] \"POST /_dash-update-component HTTP/1.1\" 200 -\n",
      "127.0.0.1 - - [18/Apr/2020 10:59:28] \"POST /_dash-update-component HTTP/1.1\" 200 -\n"
     ]
    }
   ],
   "source": [
    "if __name__=='__main__':\n",
    "    app.run_server(port=4080)"
   ]
  },
  {
   "cell_type": "code",
   "execution_count": null,
   "metadata": {},
   "outputs": [],
   "source": []
  },
  {
   "cell_type": "code",
   "execution_count": null,
   "metadata": {},
   "outputs": [],
   "source": []
  }
 ],
 "metadata": {
  "kernelspec": {
   "display_name": "Python 3",
   "language": "python",
   "name": "python3"
  },
  "language_info": {
   "codemirror_mode": {
    "name": "ipython",
    "version": 3
   },
   "file_extension": ".py",
   "mimetype": "text/x-python",
   "name": "python",
   "nbconvert_exporter": "python",
   "pygments_lexer": "ipython3",
   "version": "3.7.3"
  }
 },
 "nbformat": 4,
 "nbformat_minor": 2
}
