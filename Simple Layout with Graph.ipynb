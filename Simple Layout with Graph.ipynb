{
 "cells": [
  {
   "cell_type": "code",
   "execution_count": 51,
   "metadata": {},
   "outputs": [],
   "source": [
    "import dash\n",
    "import numpy as np\n",
    "import dash_core_components as dcc\n",
    "import dash_html_components as html"
   ]
  },
  {
   "cell_type": "code",
   "execution_count": null,
   "metadata": {},
   "outputs": [],
   "source": []
  },
  {
   "cell_type": "code",
   "execution_count": null,
   "metadata": {},
   "outputs": [
    {
     "name": "stdout",
     "output_type": "stream",
     "text": [
      " * Serving Flask app \"__main__\" (lazy loading)\n",
      " * Environment: production\n",
      "   WARNING: This is a development server. Do not use it in a production deployment.\n",
      "   Use a production WSGI server instead.\n",
      " * Debug mode: off\n"
     ]
    },
    {
     "name": "stderr",
     "output_type": "stream",
     "text": [
      " * Running on http://127.0.0.1:4050/ (Press CTRL+C to quit)\n",
      "127.0.0.1 - - [09/Jul/2020 08:50:02] \"GET / HTTP/1.1\" 200 -\n",
      "127.0.0.1 - - [09/Jul/2020 08:50:03] \"GET /_dash-component-suites/dash_renderer/react@16.8.6.min.js?v=1.1.2&m=1576595738 HTTP/1.1\" 200 -\n",
      "127.0.0.1 - - [09/Jul/2020 08:50:03] \"GET /_dash-component-suites/dash_renderer/prop-types@15.7.2.min.js?v=1.1.2&m=1576595738 HTTP/1.1\" 200 -\n",
      "127.0.0.1 - - [09/Jul/2020 08:50:03] \"GET /_dash-component-suites/dash_renderer/react-dom@16.8.6.min.js?v=1.1.2&m=1576595738 HTTP/1.1\" 200 -\n",
      "127.0.0.1 - - [09/Jul/2020 08:50:03] \"GET /_dash-component-suites/dash_core_components/highlight.pack.js?v=1.3.1&m=1576595950 HTTP/1.1\" 200 -\n",
      "127.0.0.1 - - [09/Jul/2020 08:50:03] \"GET /_dash-component-suites/dash_html_components/dash_html_components.min.js?v=1.0.1&m=1576596177 HTTP/1.1\" 200 -\n",
      "127.0.0.1 - - [09/Jul/2020 08:50:03] \"GET /_dash-component-suites/dash_renderer/dash_renderer.min.js?v=1.1.2&m=1576595738 HTTP/1.1\" 200 -\n",
      "127.0.0.1 - - [09/Jul/2020 08:50:03] \"GET /_dash-component-suites/dash_core_components/dash_core_components.min.js?v=1.3.1&m=1576595950 HTTP/1.1\" 200 -\n",
      "127.0.0.1 - - [09/Jul/2020 08:50:03] \"GET /_dash-component-suites/dash_core_components/plotly-1.50.1.min.js?v=1.3.1&m=1576595950 HTTP/1.1\" 200 -\n",
      "127.0.0.1 - - [09/Jul/2020 08:50:04] \"GET /_dash-layout HTTP/1.1\" 200 -\n",
      "127.0.0.1 - - [09/Jul/2020 08:50:04] \"GET /_dash-dependencies HTTP/1.1\" 200 -\n",
      "127.0.0.1 - - [09/Jul/2020 08:50:04] \"GET /_favicon.ico?v=1.4.1 HTTP/1.1\" 200 -\n"
     ]
    }
   ],
   "source": [
    "app=dash.Dash()\n",
    "app.layout=html.Div(children=[\n",
    "    html.H1('This is Flask Dash Firrrrrrrrrrst'),\n",
    "    dcc.Graph(id='example',\n",
    "             figure={\n",
    "  \"data\": [\n",
    "    {\n",
    "      \"mode\": \"lines\",\n",
    "      \"type\": \"scatter\",\n",
    "      \"x\": [d for d in range(1,200)],\n",
    "      \"y\": [s*np.random.randint(1,500,1)[0] for s in range(1,200)],\n",
    "      \"xaxis\": \"x1\",\n",
    "      \"yaxis\": \"y1\",\n",
    "      \"visible\": True,\n",
    "      \"showlegend\": True\n",
    "    }\n",
    "  ],\n",
    "  \"layout\": {\n",
    "    \"title\": \"<b>Customizing grid color, spacing and size</b>\",\n",
    "#     \"width\": 840,\n",
    "    'plot_bgcolor':'#3d3d5c',\n",
    "    'paper_bgcolor':'#3d3d5c',\n",
    "#     \"height\": 630,\n",
    "    \"margin\": {\n",
    "      \"b\": 0,\n",
    "      \"l\": 0,\n",
    "      \"r\": 0,\n",
    "      \"t\": 80,\n",
    "      \"pad\": 0\n",
    "    },\n",
    "    \"xaxis1\": {\n",
    "      \"side\": \"bottom\",\n",
    "      \"type\": \"linear\",\n",
    "      \"dtick\": 20,\n",
    "      \"range\": [\n",
    "        0,\n",
    "        100\n",
    "      ],\n",
    "      \"anchor\": \"y1\",\n",
    "      \"domain\": [\n",
    "        0.13,\n",
    "        0.905\n",
    "      ],\n",
    "      \"gridcolor\": \"white\",\n",
    "      \"zerolinecolor\": \"white\"\n",
    "    },\n",
    "    \"yaxis1\": {\n",
    "#         \"showgrid\":False,\n",
    "      \"side\": \"left\",\n",
    "      \"type\": \"linear\",\n",
    "      \"dtick\": 25,\n",
    "      \"range\": [\n",
    "        0,\n",
    "        100\n",
    "      ],\n",
    "      \"anchor\": \"x1\",\n",
    "      \"domain\": [\n",
    "        0.11,\n",
    "        0.925\n",
    "      ],\n",
    "      \"gridcolor\": \"white\",\n",
    "      \"zerolinecolor\": \"white\"\n",
    "    },\n",
    "#     \"showlegend\": False,\n",
    "#     \"annotations\": []\n",
    "  }\n",
    "             })\n",
    "\n",
    "\n",
    "])\n",
    "app.run_server(port=4050)"
   ]
  },
  {
   "cell_type": "code",
   "execution_count": null,
   "metadata": {},
   "outputs": [],
   "source": []
  },
  {
   "cell_type": "code",
   "execution_count": null,
   "metadata": {},
   "outputs": [],
   "source": []
  }
 ],
 "metadata": {
  "kernelspec": {
   "display_name": "Python 3",
   "language": "python",
   "name": "python3"
  },
  "language_info": {
   "codemirror_mode": {
    "name": "ipython",
    "version": 3
   },
   "file_extension": ".py",
   "mimetype": "text/x-python",
   "name": "python",
   "nbconvert_exporter": "python",
   "pygments_lexer": "ipython3",
   "version": "3.7.3"
  }
 },
 "nbformat": 4,
 "nbformat_minor": 2
}
