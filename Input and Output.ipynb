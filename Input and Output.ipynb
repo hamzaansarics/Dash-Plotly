{
 "cells": [
  {
   "cell_type": "code",
   "execution_count": 5,
   "metadata": {},
   "outputs": [],
   "source": [
    "import dash\n",
    "import dash_core_components as dcc\n",
    "import dash_html_components as html\n",
    "from dash.dependencies import Input,Output"
   ]
  },
  {
   "cell_type": "code",
   "execution_count": 8,
   "metadata": {},
   "outputs": [],
   "source": [
    "app=dash.Dash()"
   ]
  },
  {
   "cell_type": "code",
   "execution_count": 10,
   "metadata": {},
   "outputs": [
    {
     "ename": "SyntaxError",
     "evalue": "unexpected EOF while parsing (<ipython-input-10-6a43395eca87>, line 15)",
     "output_type": "error",
     "traceback": [
      "\u001b[1;36m  File \u001b[1;32m\"<ipython-input-10-6a43395eca87>\"\u001b[1;36m, line \u001b[1;32m15\u001b[0m\n\u001b[1;33m    #         return \"Something Wrong there\"\u001b[0m\n\u001b[1;37m                                            ^\u001b[0m\n\u001b[1;31mSyntaxError\u001b[0m\u001b[1;31m:\u001b[0m unexpected EOF while parsing\n"
     ]
    }
   ],
   "source": [
    "app.layout=html.Div(children=['SIMPLE INPUT & OUTPUT',\n",
    "        dcc.Input(id='Input',value='Enter Values',type ='text'),\n",
    "        html.Div(id='Output')])\n",
    "@app.callback(\n",
    "Output(component_id='Output',component_property='children'),\n",
    "[Input(component_id='Input',component_property='value')])\n",
    "\n",
    "# def update_value(input_values):\n",
    "#     try:\n",
    "#         if input_values=='20':\n",
    "#             return \"this is very boring number\"\n",
    "#         else:\n",
    "#             return \"every thing is ok\"\n",
    "#     except:\n",
    "#         return \"Something Wrong there\""
   ]
  },
  {
   "cell_type": "code",
   "execution_count": 4,
   "metadata": {},
   "outputs": [],
   "source": [
    "# if __name__=='__main__':\n",
    "#     app.run_server(port=4050)"
   ]
  },
  {
   "cell_type": "code",
   "execution_count": null,
   "metadata": {},
   "outputs": [],
   "source": []
  }
 ],
 "metadata": {
  "kernelspec": {
   "display_name": "Python 3",
   "language": "python",
   "name": "python3"
  },
  "language_info": {
   "codemirror_mode": {
    "name": "ipython",
    "version": 3
   },
   "file_extension": ".py",
   "mimetype": "text/x-python",
   "name": "python",
   "nbconvert_exporter": "python",
   "pygments_lexer": "ipython3",
   "version": "3.7.3"
  }
 },
 "nbformat": 4,
 "nbformat_minor": 2
}
