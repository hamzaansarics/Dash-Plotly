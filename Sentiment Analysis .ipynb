{
 "cells": [
  {
   "cell_type": "code",
   "execution_count": 4,
   "metadata": {},
   "outputs": [],
   "source": [
    "import numpy as np\n",
    "from textblob import TextBlob\n",
    "import matplotlib.pyplot as plt\n",
    "from vaderSentiment.vaderSentiment import SentimentIntensityAnalyzer"
   ]
  },
  {
   "cell_type": "code",
   "execution_count": 5,
   "metadata": {},
   "outputs": [
    {
     "name": "stdout",
     "output_type": "stream",
     "text": [
      "Positive Polarity is 71.0% Out of 5331\n",
      "Negative Polarity is 56.0% Out of 5331\n"
     ]
    }
   ],
   "source": [
    "pos_corr=0\n",
    "pos_count=0\n",
    "neg_corr=0\n",
    "neg_count=0\n",
    "with open(r'C:\\Users\\Programmer\\Downloads\\positive.txt','r') as file:\n",
    "        for word in file.readlines():\n",
    "            if TextBlob(word).sentiment.polarity>0:\n",
    "                pos_corr+=1\n",
    "            pos_count+=1\n",
    "with open(r'C:\\Users\\Programmer\\Downloads\\negative.txt','r') as file:\n",
    "        for word in file.readlines():\n",
    "            if TextBlob(word).sentiment.polarity<=0:\n",
    "                neg_corr+=1\n",
    "            neg_count+=1\n",
    "print('Positive Polarity is {}% Out of {}'.format(np.round(pos_corr/pos_count*100),pos_count))\n",
    "print('Negative Polarity is {}% Out of {}'.format(np.round(neg_corr/neg_count*100),neg_count))"
   ]
  },
  {
   "cell_type": "code",
   "execution_count": 10,
   "metadata": {},
   "outputs": [
    {
     "name": "stdout",
     "output_type": "stream",
     "text": [
      "Positive Subjectivity is 14.0% Out of 5331\n",
      "Negative Subjactivity is 33.0% Out of 5331\n"
     ]
    }
   ],
   "source": [
    "pos_sub_corr=0\n",
    "pos_sub_count=0\n",
    "neg_sub_corr=0\n",
    "neg_sub_count=0\n",
    "with open(r'C:\\Users\\Programmer\\Downloads\\positive.txt','r') as file:\n",
    "        for word in file.readlines():\n",
    "            word=TextBlob(word)\n",
    "            if word.sentiment.subjectivity>0.8 and word.sentiment.subjectivity>0:\n",
    "                pos_sub_corr+=1\n",
    "            pos_sub_count+=1\n",
    "with open(r'C:\\Users\\Programmer\\Downloads\\negative.txt','r') as file:\n",
    "        for word in file.readlines():\n",
    "            word=TextBlob(word)\n",
    "            if word.sentiment.subjectivity<0.8 and word.sentiment.polarity<0:\n",
    "                neg_sub_corr+=1\n",
    "            neg_sub_count+=1            \n",
    "print('Positive Subjectivity is {}% Out of {}'.format(np.round(pos_sub_corr/pos_sub_count*100),pos_sub_count))\n",
    "print('Negative Subjactivity is {}% Out of {}'.format(np.round(neg_sub_corr/neg_sub_count*100),neg_sub_count))"
   ]
  },
  {
   "cell_type": "code",
   "execution_count": 7,
   "metadata": {},
   "outputs": [],
   "source": [
    "pol=SentimentIntensityAnalyzer()"
   ]
  },
  {
   "cell_type": "code",
   "execution_count": 8,
   "metadata": {},
   "outputs": [
    {
     "name": "stdout",
     "output_type": "stream",
     "text": [
      "['__class__', '__delattr__', '__dict__', '__dir__', '__doc__', '__eq__', '__format__', '__ge__', '__getattribute__', '__gt__', '__hash__', '__init__', '__init_subclass__', '__le__', '__lt__', '__module__', '__ne__', '__new__', '__reduce__', '__reduce_ex__', '__repr__', '__setattr__', '__sizeof__', '__str__', '__subclasshook__', '__weakref__', '_amplify_ep', '_amplify_qm', '_but_check', '_least_check', '_negation_check', '_punctuation_emphasis', '_sentiment_laden_idioms_check', '_sift_sentiment_scores', '_special_idioms_check', 'emoji_full_filepath', 'emojis', 'lexicon', 'lexicon_full_filepath', 'make_emoji_dict', 'make_lex_dict', 'polarity_scores', 'score_valence', 'sentiment_valence']\n"
     ]
    }
   ],
   "source": [
    "print(dir(pol))"
   ]
  },
  {
   "cell_type": "code",
   "execution_count": 11,
   "metadata": {},
   "outputs": [
    {
     "name": "stdout",
     "output_type": "stream",
     "text": [
      "Positive Compound of VaderSentiment is 70.0% Out of 5331\n",
      "Negative Compound of VaderSentiment is 30.0% Out of 5331\n"
     ]
    }
   ],
   "source": [
    "pos_sub_corr=0\n",
    "pos_sub_count=0\n",
    "neg_sub_corr=0\n",
    "neg_sub_count=0\n",
    "analyzer=SentimentIntensityAnalyzer()\n",
    "with open(r'C:\\Users\\Programmer\\Downloads\\positive.txt','r') as file:\n",
    "        for word in file.readlines():\n",
    "            word=analyzer.polarity_scores(word)\n",
    "            if word['compound']>0:\n",
    "                pos_sub_corr+=1\n",
    "            pos_sub_count+=1\n",
    "with open(r'C:\\Users\\Programmer\\Downloads\\positive.txt','r') as file:\n",
    "        for word in file.readlines():\n",
    "            word=analyzer.polarity_scores(word)\n",
    "            if word['compound']<=0:\n",
    "                neg_sub_corr+=1\n",
    "            neg_sub_count+=1            \n",
    "print('Positive Compound of VaderSentiment is {}% Out of {}'.format(np.round(pos_sub_corr/pos_sub_count*100),pos_sub_count))\n",
    "print('Negative Compound of VaderSentiment is {}% Out of {}'.format(np.round(neg_sub_corr/neg_sub_count*100),neg_sub_count))"
   ]
  },
  {
   "cell_type": "code",
   "execution_count": 12,
   "metadata": {},
   "outputs": [],
   "source": [
    "reviews=[]\n",
    "with open(r'C:\\Users\\Programmer\\Downloads\\positive.txt','r') as file:\n",
    "        for word in file.readlines():\n",
    "            word=TextBlob(word)\n",
    "            reviews.append(word.polarity)\n",
    "with open(r'C:\\Users\\Programmer\\Downloads\\negative.txt','r') as file:\n",
    "        for word in file.readlines():\n",
    "            word=TextBlob(word)\n",
    "            reviews.append(word.polarity)"
   ]
  },
  {
   "cell_type": "code",
   "execution_count": 13,
   "metadata": {},
   "outputs": [],
   "source": [
    "import pandas as pd\n",
    "df=pd.DataFrame({'FIRST':reviews})"
   ]
  },
  {
   "cell_type": "code",
   "execution_count": 14,
   "metadata": {},
   "outputs": [
    {
     "data": {
      "image/png": "[encoded data removed]",
      "text/plain": [
       "<Figure size 432x288 with 1 Axes>"
      ]
     },
     "metadata": {
      "needs_background": "light"
     },
     "output_type": "display_data"
    }
   ],
   "source": [
    "df.FIRST.rolling(20).sum().plot()\n",
    "plt.show()"
   ]
  },
  {
   "cell_type": "code",
   "execution_count": 15,
   "metadata": {},
   "outputs": [],
   "source": [
    "analyzer=SentimentIntensityAnalyzer()"
   ]
  },
  {
   "cell_type": "code",
   "execution_count": 18,
   "metadata": {},
   "outputs": [
    {
     "name": "stdout",
     "output_type": "stream",
     "text": [
      "{'neg': 0.0, 'neu': 1.0, 'pos': 0.0, 'compound': 0.0}\n"
     ]
    }
   ],
   "source": [
    "print(analyzer.polarity_scores(word))"
   ]
  },
  {
   "cell_type": "code",
   "execution_count": 21,
   "metadata": {},
   "outputs": [
    {
     "name": "stdout",
     "output_type": "stream",
     "text": [
      "Positive neu of VaderSentiment is 100.0% Out of 5331\n",
      "Negative neu of VaderSentiment is 0.0% Out of 5331\n"
     ]
    }
   ],
   "source": [
    "pos_sub_corr=0\n",
    "pos_sub_count=0\n",
    "neg_sub_corr=0\n",
    "neg_sub_count=0\n",
    "analyzer=SentimentIntensityAnalyzer()\n",
    "with open(r'C:\\Users\\Programmer\\Downloads\\positive.txt','r') as file:\n",
    "        for word in file.readlines():\n",
    "            word=analyzer.polarity_scores(word)\n",
    "            if word['neu']>=0:\n",
    "                pos_sub_corr+=1\n",
    "            pos_sub_count+=1\n",
    "with open(r'C:\\Users\\Programmer\\Downloads\\positive.txt','r') as file:\n",
    "        for word in file.readlines():\n",
    "            word=analyzer.polarity_scores(word)\n",
    "            if word['neu']<=0:\n",
    "                neg_sub_corr+=1\n",
    "            neg_sub_count+=1            \n",
    "print('Positive neu of VaderSentiment is {}% Out of {}'.format(np.round(pos_sub_corr/pos_sub_count*100),pos_sub_count))\n",
    "print('Negative neu of VaderSentiment is {}% Out of {}'.format(np.round(neg_sub_corr/neg_sub_count*100),neg_sub_count))"
   ]
  },
  {
   "cell_type": "code",
   "execution_count": null,
   "metadata": {},
   "outputs": [],
   "source": []
  }
 ],
 "metadata": {
  "kernelspec": {
   "display_name": "Python 3",
   "language": "python",
   "name": "python3"
  },
  "language_info": {
   "codemirror_mode": {
    "name": "ipython",
    "version": 3
   },
   "file_extension": ".py",
   "mimetype": "text/x-python",
   "name": "python",
   "nbconvert_exporter": "python",
   "pygments_lexer": "ipython3",
   "version": "3.7.3"
  }
 },
 "nbformat": 4,
 "nbformat_minor": 2
}
